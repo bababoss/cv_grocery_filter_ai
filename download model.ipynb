{
 "cells": [
  {
   "cell_type": "code",
   "execution_count": 2,
   "id": "d5916bd0-f04b-4ff0-88c9-e58b556505ee",
   "metadata": {
    "tags": []
   },
   "outputs": [
    {
     "name": "stderr",
     "output_type": "stream",
     "text": [
      "Downloading...\n",
      "From (uriginal): https://drive.google.com/u/0/uc?id=1i-0YaDk1KsU893dWn79Rjyagwuojv0g6&export=download\n",
      "From (redirected): https://drive.google.com/uc?id=1i-0YaDk1KsU893dWn79Rjyagwuojv0g6&export=download&confirm=t&uuid=6209d2ab-04f2-4521-8b15-9eb4c2d1d3cc\n",
      "To: /home/ubuntu/project/cv_grocery_filter_ai/zxy.zip\n",
      "100%|██████████████████████████████████████████████████████████████████████████████████████████████████████████████████████████| 41.5M/41.5M [00:01<00:00, 31.5MB/s]\n"
     ]
    },
    {
     "data": {
      "text/plain": [
       "'zxy.zip'"
      ]
     },
     "execution_count": 2,
     "metadata": {},
     "output_type": "execute_result"
    }
   ],
   "source": [
    "#https://drive.google.com/file/d/1i-0YaDk1KsU893dWn79Rjyagwuojv0g6/view?usp=drivesdk\n",
    "import gdown\n",
    "url = 'https://drive.google.com/u/0/uc?id=1i-0YaDk1KsU893dWn79Rjyagwuojv0g6&export=download'\n",
    "output = 'zxy.zip'\n",
    "gdown.download(url, output, quiet=False)\n"
   ]
  },
  {
   "cell_type": "code",
   "execution_count": 1,
   "id": "fdf4ed28-e9ec-4feb-a869-f6eb6bfe1e1a",
   "metadata": {},
   "outputs": [
    {
     "name": "stderr",
     "output_type": "stream",
     "text": [
      "Downloading...\n",
      "From (uriginal): https://drive.google.com/u/0/uc?id=1SP4H2A7RmtBRUy2FxFlXqCBKqIGGKyu_&export=download\n",
      "From (redirected): https://drive.google.com/uc?id=1SP4H2A7RmtBRUy2FxFlXqCBKqIGGKyu_&export=download&confirm=t&uuid=4e67f88e-1c93-43b3-8370-a8201748f037\n",
      "To: /home/ubuntu/project/cv_grocery_filter_ai/video3.mp4\n",
      "100%|████████████████████████████████████████████████████████████████████████████████████████████████████████████████████████████| 200M/200M [00:06<00:00, 29.7MB/s]\n"
     ]
    },
    {
     "data": {
      "text/plain": [
       "'video3.mp4'"
      ]
     },
     "execution_count": 1,
     "metadata": {},
     "output_type": "execute_result"
    }
   ],
   "source": [
    "import gdown\n",
    "url = 'https://drive.google.com/u/0/uc?id=1SP4H2A7RmtBRUy2FxFlXqCBKqIGGKyu_&export=download'\n",
    "output = 'video3.mp4'\n",
    "gdown.download(url, output, quiet=False)"
   ]
  },
  {
   "cell_type": "code",
   "execution_count": 2,
   "id": "6e10cf71-0ec8-4e0e-b55b-f52cafbebc7e",
   "metadata": {
    "tags": []
   },
   "outputs": [
    {
     "name": "stderr",
     "output_type": "stream",
     "text": [
      "Downloading...\n",
      "From (uriginal): https://drive.google.com/u/0/uc?id=1vZYtiXaDSp8JEhCa6-iScwZKBLZ_raoh&export=download\n",
      "From (redirected): https://drive.google.com/uc?id=1vZYtiXaDSp8JEhCa6-iScwZKBLZ_raoh&export=download&confirm=t&uuid=aafa921d-f4ef-4ec9-9c14-7c52d961626f\n",
      "To: /home/ubuntu/project/cv_grocery_filter_ai/video2.mp4\n",
      "100%|████████████████████████████████████████████████████████████████████████████████████████████████████████████████████████████| 160M/160M [00:03<00:00, 45.8MB/s]\n"
     ]
    },
    {
     "data": {
      "text/plain": [
       "'video2.mp4'"
      ]
     },
     "execution_count": 2,
     "metadata": {},
     "output_type": "execute_result"
    }
   ],
   "source": [
    "import gdown\n",
    "url = 'https://drive.google.com/u/0/uc?id=1vZYtiXaDSp8JEhCa6-iScwZKBLZ_raoh&export=download'\n",
    "output = 'video2.mp4'\n",
    "gdown.download(url, output, quiet=False)"
   ]
  },
  {
   "cell_type": "code",
   "execution_count": 3,
   "id": "16a3f8be-0c21-4cae-bd99-a5035b31913b",
   "metadata": {
    "tags": []
   },
   "outputs": [
    {
     "name": "stderr",
     "output_type": "stream",
     "text": [
      "Downloading...\n",
      "From (uriginal): https://drive.google.com/u/0/uc?id=1EQ6mkR4nsiPh43hZELNoWo9l42tqTFeR&export=download\n",
      "From (redirected): https://drive.google.com/uc?id=1EQ6mkR4nsiPh43hZELNoWo9l42tqTFeR&export=download&confirm=t&uuid=1ee15359-9cc6-4020-87c0-2b1df2dc3594\n",
      "To: /home/ubuntu/project/cv_grocery_filter_ai/video1.mp4\n",
      "100%|████████████████████████████████████████████████████████████████████████████████████████████████████████████████████████████| 218M/218M [00:04<00:00, 49.2MB/s]\n"
     ]
    },
    {
     "data": {
      "text/plain": [
       "'video1.mp4'"
      ]
     },
     "execution_count": 3,
     "metadata": {},
     "output_type": "execute_result"
    }
   ],
   "source": [
    "import gdown\n",
    "url = 'https://drive.google.com/u/0/uc?id=1EQ6mkR4nsiPh43hZELNoWo9l42tqTFeR&export=download'\n",
    "output = 'video1.mp4'\n",
    "gdown.download(url, output, quiet=False)\n"
   ]
  },
  {
   "cell_type": "code",
   "execution_count": null,
   "id": "ed57698b-f8de-4c13-be3e-161510f3e08a",
   "metadata": {},
   "outputs": [],
   "source": []
  }
 ],
 "metadata": {
  "kernelspec": {
   "display_name": "yoloenv",
   "language": "python",
   "name": "yoloenv"
  },
  "language_info": {
   "codemirror_mode": {
    "name": "ipython",
    "version": 3
   },
   "file_extension": ".py",
   "mimetype": "text/x-python",
   "name": "python",
   "nbconvert_exporter": "python",
   "pygments_lexer": "ipython3",
   "version": "3.10.6"
  }
 },
 "nbformat": 4,
 "nbformat_minor": 5
}
